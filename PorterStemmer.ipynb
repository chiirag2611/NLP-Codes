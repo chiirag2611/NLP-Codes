{
  "cells": [
    {
      "cell_type": "code",
      "execution_count": 1,
      "metadata": {
        "id": "xnHw0e_DSylq"
      },
      "outputs": [],
      "source": [
        "import nltk #import library nltk\n",
        "from nltk.tokenize import word_tokenize\n",
        "from nltk.tokenize import sent_tokenize #import sent_tokenize for tokenizing paragraph into sentences\n",
        "from nltk.stem.porter import PorterStemmer\n",
        "from nltk.stem import WordNetLemmatizer\n",
        "from nltk.corpus import stopwords #import stopwords"
      ]
    },
    {
      "cell_type": "code",
      "execution_count": 2,
      "metadata": {
        "id": "ByJgtrQ5Szuc"
      },
      "outputs": [],
      "source": [
        "from nltk.stem import PorterStemmer"
      ]
    },
    {
      "cell_type": "code",
      "execution_count": 3,
      "metadata": {
        "id": "QqfFIeTqS2XH"
      },
      "outputs": [],
      "source": [
        "from nltk.tokenize import word_tokenize"
      ]
    },
    {
      "cell_type": "code",
      "execution_count": 4,
      "metadata": {
        "colab": {
          "base_uri": "https://localhost:8080/"
        },
        "id": "hmQgNK-jS-n9",
        "outputId": "65bc025a-a6a7-4e3f-d278-ff97a4b2a215"
      },
      "outputs": [
        {
          "name": "stderr",
          "output_type": "stream",
          "text": [
            "[nltk_data] Downloading package punkt to\n",
            "[nltk_data]     C:\\Users\\chawl\\AppData\\Roaming\\nltk_data...\n",
            "[nltk_data]   Package punkt is already up-to-date!\n"
          ]
        },
        {
          "data": {
            "text/plain": [
              "True"
            ]
          },
          "execution_count": 4,
          "metadata": {},
          "output_type": "execute_result"
        }
      ],
      "source": [
        "nltk.download('punkt')"
      ]
    },
    {
      "cell_type": "code",
      "execution_count": 5,
      "metadata": {
        "colab": {
          "base_uri": "https://localhost:8080/"
        },
        "id": "A_HaxSHRTBRX",
        "outputId": "f84968c6-9b64-49e9-c8bc-dfa5ccf63d78"
      },
      "outputs": [
        {
          "name": "stderr",
          "output_type": "stream",
          "text": [
            "[nltk_data] Downloading package stopwords to\n",
            "[nltk_data]     C:\\Users\\chawl\\AppData\\Roaming\\nltk_data...\n",
            "[nltk_data]   Package stopwords is already up-to-date!\n"
          ]
        },
        {
          "data": {
            "text/plain": [
              "True"
            ]
          },
          "execution_count": 5,
          "metadata": {},
          "output_type": "execute_result"
        }
      ],
      "source": [
        "nltk.download('stopwords')"
      ]
    },
    {
      "cell_type": "code",
      "execution_count": 6,
      "metadata": {
        "colab": {
          "base_uri": "https://localhost:8080/"
        },
        "id": "oPLxySkvTD5b",
        "outputId": "226aa14e-f32c-4f57-dbfd-a417396b9f91"
      },
      "outputs": [
        {
          "name": "stdout",
          "output_type": "stream",
          "text": [
            "A  :  a\n",
            "boy  :  boy\n",
            "named  :  name\n",
            "John  :  john\n",
            "was  :  wa\n",
            "laughing  :  laugh\n",
            ".  :  .\n",
            "lives  :  live\n",
            "His  :  hi\n",
            "father  :  father\n",
            "found  :  found\n",
            "him  :  him\n",
            "crying  :  cri\n",
            ".  :  .\n",
            "When  :  when\n",
            "his  :  hi\n",
            "father  :  father\n",
            "asked  :  ask\n",
            "John  :  john\n",
            "why  :  whi\n",
            "he  :  he\n",
            "was  :  wa\n",
            "crying  :  cri\n",
            ",  :  ,\n",
            "he  :  he\n",
            "said  :  said\n",
            "that  :  that\n",
            "he  :  he\n",
            "had  :  had\n",
            "a  :  a\n",
            "lot  :  lot\n",
            "of  :  of\n",
            "problems  :  problem\n",
            "in  :  in\n",
            "his  :  hi\n",
            "life  :  life\n",
            ".  :  .\n",
            "His  :  hi\n",
            "father  :  father\n",
            "simply  :  simpli\n",
            "smiled  :  smile\n",
            "and  :  and\n",
            "asked  :  ask\n",
            "him  :  him\n",
            "to  :  to\n",
            "get  :  get\n",
            "a  :  a\n",
            "potato  :  potato\n",
            ",  :  ,\n",
            "an  :  an\n",
            "egg  :  egg\n",
            ",  :  ,\n",
            "and  :  and\n",
            "some  :  some\n",
            "coffee  :  coffe\n",
            "beans  :  bean\n",
            ".  :  .\n",
            "He  :  he\n",
            "placed  :  place\n",
            "them  :  them\n",
            "in  :  in\n",
            "three  :  three\n",
            "bowls  :  bowl\n",
            ".  :  .\n",
            "He  :  he\n",
            "then  :  then\n",
            "asked  :  ask\n",
            "John  :  john\n",
            "to  :  to\n",
            "feel  :  feel\n",
            "their  :  their\n",
            "texture  :  textur\n",
            "and  :  and\n",
            "then  :  then\n",
            "fill  :  fill\n",
            "each  :  each\n",
            "bowl  :  bowl\n",
            "with  :  with\n",
            "water  :  water\n",
            ".  :  .\n",
            "John  :  john\n",
            "did  :  did\n",
            "as  :  as\n",
            "he  :  he\n",
            "had  :  had\n",
            "been  :  been\n",
            "told  :  told\n",
            ".  :  .\n",
            "His  :  hi\n",
            "father  :  father\n",
            "then  :  then\n",
            "boiled  :  boil\n",
            "all  :  all\n",
            "three  :  three\n",
            "bowls  :  bowl\n",
            ".  :  .\n",
            "Once  :  onc\n",
            "the  :  the\n",
            "bowls  :  bowl\n",
            "had  :  had\n",
            "cooled  :  cool\n",
            "down  :  down\n",
            ",  :  ,\n",
            "John  :  john\n",
            "’  :  ’\n",
            "s  :  s\n",
            "father  :  father\n",
            "asked  :  ask\n",
            "him  :  him\n",
            "to  :  to\n",
            "feel  :  feel\n",
            "the  :  the\n",
            "texture  :  textur\n",
            "of  :  of\n",
            "the  :  the\n",
            "different  :  differ\n",
            "food  :  food\n",
            "items  :  item\n",
            "again  :  again\n",
            ".  :  .\n"
          ]
        }
      ],
      "source": [
        "ps = PorterStemmer()\n",
        "\n",
        "doc = \"A boy named John was laughing. lives His father found him crying. When his father asked John why he was crying, he said that he had a lot of problems in his life. His father simply smiled and asked him to get a potato, an egg, and some coffee beans. He placed them in three bowls. He then asked John to feel their texture and then fill each bowl with water. John did as he had been told. His father then boiled all three bowls. Once the bowls had cooled down, John’s father asked him to feel the texture of the different food items again.\"\n",
        "words = word_tokenize(doc)\n",
        "\n",
        "for i in words:\n",
        "    print(i, \" : \", ps.stem(i))"
      ]
    },
    {
      "cell_type": "code",
      "execution_count": 7,
      "metadata": {
        "colab": {
          "base_uri": "https://localhost:8080/"
        },
        "id": "XdkZeS0DTHQR",
        "outputId": "c3ebd86c-1184-42dc-b883-4d5253eda644"
      },
      "outputs": [
        {
          "name": "stdout",
          "output_type": "stream",
          "text": [
            "cry\n",
            "\n",
            "\n",
            "buy\n"
          ]
        }
      ],
      "source": [
        "incorrect=[\"crying\", \"once\"] #once, texture\n",
        "test=[\"laughing\", \"buying\" ]\n",
        "\n",
        "def rule1(word):\n",
        "  l=len(word)\n",
        "  word=word[:l-3]\n",
        "  print(word)\n",
        "\n",
        "rule1(\"crying\")\n",
        "for i in test:\n",
        "  print(i[-3:0])\n",
        "  if(i[len(i)-3 : len(i)]==\"ing\" and i[-4]==\"y\"):\n",
        "    rule1(i)\n",
        "\n"
      ]
    }
  ],
  "metadata": {
    "colab": {
      "provenance": []
    },
    "kernelspec": {
      "display_name": "Python 3",
      "name": "python3"
    },
    "language_info": {
      "codemirror_mode": {
        "name": "ipython",
        "version": 3
      },
      "file_extension": ".py",
      "mimetype": "text/x-python",
      "name": "python",
      "nbconvert_exporter": "python",
      "pygments_lexer": "ipython3",
      "version": "3.12.0"
    }
  },
  "nbformat": 4,
  "nbformat_minor": 0
}
