{
  "cells": [
    {
      "cell_type": "code",
      "execution_count": 1,
      "metadata": {
        "id": "3XIiiYqQId23",
        "colab": {
          "base_uri": "https://localhost:8080/"
        },
        "outputId": "77e932d3-bea6-431a-9b59-5589b50690c6"
      },
      "outputs": [
        {
          "output_type": "stream",
          "name": "stderr",
          "text": [
            "[nltk_data] Downloading package punkt to /root/nltk_data...\n",
            "[nltk_data]   Unzipping tokenizers/punkt.zip.\n",
            "[nltk_data] Downloading package stopwords to /root/nltk_data...\n",
            "[nltk_data]   Unzipping corpora/stopwords.zip.\n"
          ]
        }
      ],
      "source": [
        "import nltk\n",
        "nltk.download('punkt')\n",
        "nltk.download('stopwords')\n",
        "# nltk.download('all')\n",
        "from collections import  Counter\n",
        "import numpy as np"
      ]
    },
    {
      "cell_type": "code",
      "execution_count": 2,
      "metadata": {
        "colab": {
          "base_uri": "https://localhost:8080/"
        },
        "id": "FfU4tmzVHSmb",
        "outputId": "d0dbd021-6365-4325-ca03-f71b7c609a31"
      },
      "outputs": [
        {
          "output_type": "stream",
          "name": "stdout",
          "text": [
            "198\n",
            "274\n",
            "cosine similarity of the following document: 0.306235047481865\n"
          ]
        }
      ],
      "source": [
        "import math\n",
        "import re\n",
        "from collections import Counter\n",
        "\n",
        "WORD = re.compile(r\"\\w+\")\n",
        "\n",
        "\n",
        "def get_cosine(vec1, vec2):\n",
        "    intersection = set(vec1.keys()) & set(vec2.keys())\n",
        "    numerator = sum([vec1[x] * vec2[x] for x in intersection])\n",
        "\n",
        "    sum1 = sum([vec1[x] ** 2 for x in list(vec1.keys())])\n",
        "    sum2 = sum([vec2[x] ** 2 for x in list(vec2.keys())])\n",
        "    denominator = math.sqrt(sum1) * math.sqrt(sum2)\n",
        "\n",
        "    if not denominator:\n",
        "        return 0.0\n",
        "    else:\n",
        "        return float(numerator) / denominator\n",
        "\n",
        "\n",
        "def text_to_vector(text):\n",
        "    words = WORD.findall(text)\n",
        "    return Counter(words)\n",
        "\n",
        "\n",
        "texta = \"Paris Saint-Germain United are relaxed about the situation because Rashford is committed to the club and he effectively has two years left on his contract - one year plus an option for another year.\"\n",
        "textb = \"Paris Saint-Germain have held talks over a sensational swoop for Manchester United forward. Sportsmail revealed on March 8 that the French club, who were managed by Mauricio Pochettino at the time, were interested in the England striker and PSG have now launched their move.\"\n",
        "print(len(texta))\n",
        "print(len(textb))\n",
        "vector1 = text_to_vector(texta)\n",
        "vector2 = text_to_vector(textb)\n",
        "\n",
        "cosine = get_cosine(vector1, vector2)\n",
        "\n",
        "print(\"cosine similarity of the following document:\", cosine)"
      ]
    },
    {
      "cell_type": "code",
      "execution_count": 3,
      "metadata": {
        "colab": {
          "base_uri": "https://localhost:8080/"
        },
        "id": "IwoAhhILHhZ_",
        "outputId": "43a1930a-bd81-4652-daea-733cd60a62b1"
      },
      "outputs": [
        {
          "output_type": "stream",
          "name": "stdout",
          "text": [
            "198\n",
            "274\n",
            "Stop words  ['i', 'me', 'my', 'myself', 'we', 'our', 'ours', 'ourselves', 'you', \"you're\", \"you've\", \"you'll\", \"you'd\", 'your', 'yours', 'yourself', 'yourselves', 'he', 'him', 'his', 'himself', 'she', \"she's\", 'her', 'hers', 'herself', 'it', \"it's\", 'its', 'itself', 'they', 'them', 'their', 'theirs', 'themselves', 'what', 'which', 'who', 'whom', 'this', 'that', \"that'll\", 'these', 'those', 'am', 'is', 'are', 'was', 'were', 'be', 'been', 'being', 'have', 'has', 'had', 'having', 'do', 'does', 'did', 'doing', 'a', 'an', 'the', 'and', 'but', 'if', 'or', 'because', 'as', 'until', 'while', 'of', 'at', 'by', 'for', 'with', 'about', 'against', 'between', 'into', 'through', 'during', 'before', 'after', 'above', 'below', 'to', 'from', 'up', 'down', 'in', 'out', 'on', 'off', 'over', 'under', 'again', 'further', 'then', 'once', 'here', 'there', 'when', 'where', 'why', 'how', 'all', 'any', 'both', 'each', 'few', 'more', 'most', 'other', 'some', 'such', 'no', 'nor', 'not', 'only', 'own', 'same', 'so', 'than', 'too', 'very', 's', 't', 'can', 'will', 'just', 'don', \"don't\", 'should', \"should've\", 'now', 'd', 'll', 'm', 'o', 're', 've', 'y', 'ain', 'aren', \"aren't\", 'couldn', \"couldn't\", 'didn', \"didn't\", 'doesn', \"doesn't\", 'hadn', \"hadn't\", 'hasn', \"hasn't\", 'haven', \"haven't\", 'isn', \"isn't\", 'ma', 'mightn', \"mightn't\", 'mustn', \"mustn't\", 'needn', \"needn't\", 'shan', \"shan't\", 'shouldn', \"shouldn't\", 'wasn', \"wasn't\", 'weren', \"weren't\", 'won', \"won't\", 'wouldn', \"wouldn't\"]\n",
            "cosine similarity of the following document-  0.018518518518518517\n"
          ]
        }
      ],
      "source": [
        "from nltk.corpus import stopwords\n",
        "from nltk.tokenize import word_tokenize\n",
        "\n",
        "texta = \"Paris Saint-Germain United are relaxed about the situation because Rashford is committed to the club and he effectively has two years left on his contract - one year plus an option for another year.\"\n",
        "textb = \"Paris Saint-Germain have held talks over a sensational swoop for Manchester United forward. Sportsmail revealed on March 8 that the French club, who were managed by Mauricio Pochettino at the time, were interested in the England striker and PSG have now launched their move.\"\n",
        "print(len(texta))\n",
        "print(len(textb))\n",
        "\n",
        "X_list = word_tokenize(texta)\n",
        "Y_list = word_tokenize(textb)\n",
        "\n",
        "\n",
        "sw=['i', 'me', 'my', 'myself', 'we', 'our', 'ours', 'ourselves', 'you', \"you're\", \"you've\", \"you'll\", \"you'd\", 'your', 'yours', 'yourself', 'yourselves', 'he', 'him', 'his', 'himself', 'she', \"she's\", 'her', 'hers', 'herself', 'it', \"it's\", 'its', 'itself', 'they', 'them', 'their', 'theirs', 'themselves', 'what', 'which', 'who', 'whom', 'this', 'that', \"that'll\", 'these', 'those', 'am', 'is', 'are', 'was', 'were', 'be', 'been', 'being', 'have', 'has', 'had', 'having', 'do', 'does', 'did', 'doing', 'a', 'an', 'the', 'and', 'but', 'if', 'or', 'because', 'as', 'until', 'while', 'of', 'at', 'by', 'for', 'with', 'about', 'against', 'between', 'into', 'through', 'during', 'before', 'after', 'above', 'below', 'to', 'from', 'up', 'down', 'in', 'out', 'on', 'off', 'over', 'under', 'again', 'further', 'then', 'once', 'here', 'there', 'when', 'where', 'why', 'how', 'all', 'any', 'both', 'each', 'few', 'more', 'most', 'other', 'some', 'such', 'no', 'nor', 'not', 'only', 'own', 'same', 'so', 'than', 'too', 'very', 's', 't', 'can', 'will', 'just', 'don', \"don't\", 'should', \"should've\", 'now', 'd', 'll', 'm', 'o', 're', 've', 'y', 'ain', 'aren', \"aren't\", 'couldn', \"couldn't\", 'didn', \"didn't\", 'doesn', \"doesn't\", 'hadn', \"hadn't\", 'hasn', \"hasn't\", 'haven', \"haven't\", 'isn', \"isn't\", 'ma', 'mightn', \"mightn't\", 'mustn', \"mustn't\", 'needn', \"needn't\", 'shan', \"shan't\", 'shouldn', \"shouldn't\", 'wasn', \"wasn't\", 'weren', \"weren't\", 'won', \"won't\", 'wouldn', \"wouldn't\"]\n",
        "print(\"Stop words \",sw)\n",
        "l1 =[];l2 =[]\n",
        "X_set = {w for w in X_list if not w in sw}\n",
        "Y_set = {w for w in Y_list if not w in sw}\n",
        "\n",
        "rvector = X_set.union(Y_set)\n",
        "\n",
        "for w in rvector:\n",
        "    if w in X_set: l1.append(1)\n",
        "    else: l1.append(0)\n",
        "    if w in Y_set: l2.append(1)\n",
        "    else: l2.append(0)\n",
        "c = 0\n",
        "\n",
        "for i in range(len(rvector)):\n",
        "        c+= l1[i]*l2[i]\n",
        "cosine = c / float((sum(l1)*sum(l2))*0.5)\n",
        "print(\"cosine similarity of the following document- \", cosine)"
      ]
    },
    {
      "cell_type": "code",
      "execution_count": 4,
      "metadata": {
        "id": "mRU10BIvJrXb",
        "colab": {
          "base_uri": "https://localhost:8080/"
        },
        "outputId": "f79a2c7f-3d89-4ec5-ea9a-0bc24d333c17"
      },
      "outputs": [
        {
          "output_type": "stream",
          "name": "stdout",
          "text": [
            "202\n",
            "274\n",
            "cosine similarity of the following document: 0.3022834619612713\n"
          ]
        }
      ],
      "source": [
        "import math\n",
        "import re\n",
        "from collections import Counter\n",
        "\n",
        "WORD = re.compile(r\"\\w+\")\n",
        "\n",
        "\n",
        "def get_cosine(vec1, vec2):\n",
        "    intersection = set(vec1.keys()) & set(vec2.keys())\n",
        "    numerator = sum([vec1[x] * vec2[x] for x in intersection])\n",
        "\n",
        "    sum1 = sum([vec1[x] ** 2 for x in list(vec1.keys())])\n",
        "    sum2 = sum([vec2[x] ** 2 for x in list(vec2.keys())])\n",
        "    denominator = math.sqrt(sum1) * math.sqrt(sum2)\n",
        "\n",
        "    if not denominator:\n",
        "        return 0.0\n",
        "    else:\n",
        "        return float(numerator) / denominator\n",
        "\n",
        "\n",
        "def text_to_vector(text):\n",
        "    words = WORD.findall(text)\n",
        "    return Counter(words)\n",
        "\n",
        "\n",
        "texta = \"The Paris Saint-Germain United are relaxed about the situation because Rashford is committed to the club and he effectively has two years left on his contract - one year plus an option for another year.\"\n",
        "textb = \"Paris Saint-Germain have held talks over a sensational swoop for Manchester United forward. Sportsmail revealed on March 8 that the French club, who were managed by Mauricio Pochettino at the time, were interested in the England striker and PSG have now launched their move.\"\n",
        "print(len(texta))\n",
        "print(len(textb))\n",
        "vector1 = text_to_vector(texta)\n",
        "vector2 = text_to_vector(textb)\n",
        "\n",
        "cosine = get_cosine(vector1, vector2)\n",
        "\n",
        "print(\"cosine similarity of the following document:\", cosine)"
      ]
    },
    {
      "cell_type": "code",
      "source": [
        "for i in range(1,15):\n",
        "  doc111=texta[:6*i+6]\n",
        "  doc222=textb[:6*i+6]\n",
        "  vec1 = text_to_vector(doc111)\n",
        "  vec2 = text_to_vector(doc222)\n",
        "\n",
        "  cosine = get_cosine(vec1, vec2)\n",
        "\n",
        "  print(\"Similarity \",cosine*100,\"%\")"
      ],
      "metadata": {
        "colab": {
          "base_uri": "https://localhost:8080/"
        },
        "id": "LKWYLl3DcT13",
        "outputId": "4f5b097b-910a-4b2e-9714-e924a9f02803"
      },
      "execution_count": 5,
      "outputs": [
        {
          "output_type": "stream",
          "name": "stdout",
          "text": [
            "Similarity  40.8248290463863 %\n",
            "Similarity  57.73502691896258 %\n",
            "Similarity  75.0 %\n",
            "Similarity  59.999999999999986 %\n",
            "Similarity  46.29100498862757 %\n",
            "Similarity  40.08918628686365 %\n",
            "Similarity  35.35533905932737 %\n",
            "Similarity  31.622776601683793 %\n",
            "Similarity  29.999999999999993 %\n",
            "Similarity  26.111648393354674 %\n",
            "Similarity  25.000000000000007 %\n",
            "Similarity  24.019223070763076 %\n",
            "Similarity  28.57142857142857 %\n",
            "Similarity  28.57142857142857 %\n"
          ]
        }
      ]
    },
    {
      "cell_type": "code",
      "source": [],
      "metadata": {
        "id": "5n_z0My4cxG5"
      },
      "execution_count": null,
      "outputs": []
    }
  ],
  "metadata": {
    "colab": {
      "provenance": []
    },
    "kernelspec": {
      "display_name": "Python 3",
      "name": "python3"
    },
    "language_info": {
      "name": "python"
    }
  },
  "nbformat": 4,
  "nbformat_minor": 0
}